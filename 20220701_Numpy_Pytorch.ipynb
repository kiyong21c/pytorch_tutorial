{
  "cells": [
    {
      "cell_type": "markdown",
      "metadata": {
        "id": "view-in-github",
        "colab_type": "text"
      },
      "source": [
        "<a href=\"https://colab.research.google.com/github/kiyong21c/pytorch_tutorial/blob/main/20220701_Numpy_Pytorch.ipynb\" target=\"_parent\"><img src=\"https://colab.research.google.com/assets/colab-badge.svg\" alt=\"Open In Colab\"/></a>"
      ]
    },
    {
      "cell_type": "code",
      "source": [
        "from google.colab import drive\n",
        "drive.mount('/content/drive')"
      ],
      "metadata": {
        "id": "g8C4TYr9sKTr",
        "outputId": "7e54f035-0f5a-4c64-fb1f-304be80cf85e",
        "colab": {
          "base_uri": "https://localhost:8080/"
        }
      },
      "execution_count": null,
      "outputs": [
        {
          "output_type": "stream",
          "name": "stdout",
          "text": [
            "Mounted at /content/drive\n"
          ]
        }
      ]
    },
    {
      "cell_type": "markdown",
      "source": [
        "##### numpy와 torch로 구현해보는 backward()/no_grad()"
      ],
      "metadata": {
        "id": "zJqKVUX0a5vW"
      }
    },
    {
      "cell_type": "code",
      "source": [
        "# torch X, Numpy O\n",
        "\n",
        "import numpy as np\n",
        "\n",
        "# f = w * x\n",
        "\n",
        "# f = 2 * x\n",
        "X = np.array([1, 2, 3, 4], dtype=np.float32)\n",
        "Y = np.array([2, 4, 6, 8], dtype=np.float32)\n",
        "\n",
        "w = 0.0 # 시작은 0으로\n",
        "\n",
        "# model prediction\n",
        "def forward(x):\n",
        "    return w * x\n",
        "\n",
        "# loss = MSE\n",
        "def loss(y, y_predicted):\n",
        "    return ((y_predicted-y)**2).mean()\n",
        "\n",
        "# gradient\n",
        "# MSE = 1/N * (w*x - y)**2\n",
        "# dJ/dw = 1/N 2x (w*x - y)\n",
        "def gradient(x, y, y_predicted):\n",
        "    return np.dot(2*x, y_predicted-y).mean()\n",
        "\n",
        "print(f'Prediction before traning: f(5) = {forward(5):.3f}')\n",
        "\n",
        "# Training\n",
        "learning_rate = 0.01\n",
        "n_iters = 10\n",
        "\n",
        "for epoch in range(n_iters):\n",
        "    # prediction = fowrard pass\n",
        "    y_pred = forward(X)\n",
        "\n",
        "    # loss\n",
        "    l = loss(Y, y_pred)\n",
        "\n",
        "    # gradient\n",
        "    dw = gradient(X, Y, y_pred)\n",
        "\n",
        "    # update weights\n",
        "    w -= learning_rate * dw\n",
        "\n",
        "    if epoch % 1 == 0: # 모든 epoch에 대해\n",
        "        print(f'epoch {epoch+1}: w ={w:.3f}, loss = {l:.8f}')\n",
        "\n",
        "print(f'Prediction after traning: f(5) = {forward(5):.3f}')\n"
      ],
      "metadata": {
        "id": "PTdJEgIroW-k",
        "outputId": "fe25a38c-7b32-4d8b-a474-e45fb69478a5",
        "colab": {
          "base_uri": "https://localhost:8080/"
        }
      },
      "execution_count": null,
      "outputs": [
        {
          "output_type": "stream",
          "name": "stdout",
          "text": [
            "Prediction before traning: f(5) = 0.000\n",
            "epoch 1: w =1.200, loss = 30.00000000\n",
            "epoch 2: w =1.680, loss = 4.79999924\n",
            "epoch 3: w =1.872, loss = 0.76800019\n",
            "epoch 4: w =1.949, loss = 0.12288000\n",
            "epoch 5: w =1.980, loss = 0.01966083\n",
            "epoch 6: w =1.992, loss = 0.00314574\n",
            "epoch 7: w =1.997, loss = 0.00050331\n",
            "epoch 8: w =1.999, loss = 0.00008053\n",
            "epoch 9: w =1.999, loss = 0.00001288\n",
            "epoch 10: w =2.000, loss = 0.00000206\n",
            "Prediction after traning: f(5) = 9.999\n"
          ]
        }
      ]
    },
    {
      "cell_type": "code",
      "source": [
        "# Numpy X pytorch O\n",
        "\n",
        "import torch\n",
        "\n",
        "# f = w * x\n",
        "\n",
        "# f = 2 * x\n",
        "X = torch.tensor([1, 2, 3, 4], dtype=torch.float32)\n",
        "Y = torch.tensor([2, 4, 6, 8], dtype=torch.float32)\n",
        "\n",
        "w = torch.tensor(0.0, dtype=torch.float32, requires_grad=True) # 시작은 0으로\n",
        "\n",
        "# model prediction\n",
        "def forward(x):\n",
        "    return w * x\n",
        "\n",
        "# loss = MSE\n",
        "def loss(y, y_predicted):\n",
        "    return ((y_predicted-y)**2).mean()\n",
        "\n",
        "# # gradient\n",
        "# # MSE = 1/N * (w*x - y)**2\n",
        "# # dJ/dw = 1/N 2x (w*x - y)\n",
        "# def gradient(x, y, y_predicted):\n",
        "#     return np.dot(2*x, y_predicted-y).mean()\n",
        "\n",
        "print(f'Prediction before traning: f(5) = {forward(5):.3f}')\n",
        "\n",
        "# Training\n",
        "learning_rate = 0.01\n",
        "n_iters = 20\n",
        "\n",
        "for epoch in range(n_iters):\n",
        "    # prediction = fowrard pass\n",
        "    y_pred = forward(X)\n",
        "\n",
        "    # loss\n",
        "    l = loss(Y, y_pred)\n",
        "\n",
        "    # gradients = backward pass\n",
        "    l.backward() # dl/dw\n",
        "    \n",
        "    # update weights\n",
        "    with torch.no_grad():\n",
        "        # with 구문 안에서 새로 생성된 텐서(파라미터 w)들은 requires_grad=False 상태가 되어, 메모리 사용량을 아껴준다.\n",
        "        # 파라미터 w의 gradient를 계산하지 않겠다\n",
        "        w -= learning_rate * w.grad # lr * dl/dw\n",
        "        # 위에서 새로 정의된 w의 grad가 아닌, 우항의 w.grad(전역변수 w의 grad)만 유효하다\n",
        "\n",
        "    # zero gradients\n",
        "    w.grad.zero_()  # w 갱신 후 dl/dw를 초기화(0) 해주자\n",
        "\n",
        "    if epoch % 1 == 0: # 모든 epoch에 대해\n",
        "        print(f'epoch {epoch+1}: w ={w:.3f}, loss = {l:.8f}')\n",
        "\n",
        "print(f'Prediction after traning: f(5) = {forward(5):.3f}')\n"
      ],
      "metadata": {
        "id": "4BNm5qhyUpDa",
        "outputId": "7851c641-d69d-49cd-ed75-dcf1bc05f20e",
        "colab": {
          "base_uri": "https://localhost:8080/"
        }
      },
      "execution_count": null,
      "outputs": [
        {
          "output_type": "stream",
          "name": "stdout",
          "text": [
            "Prediction before traning: f(5) = 0.000\n",
            "epoch 1: w =0.300, loss = 30.00000000\n",
            "epoch 2: w =0.555, loss = 21.67499924\n",
            "epoch 3: w =0.772, loss = 15.66018772\n",
            "epoch 4: w =0.956, loss = 11.31448650\n",
            "epoch 5: w =1.113, loss = 8.17471695\n",
            "epoch 6: w =1.246, loss = 5.90623236\n",
            "epoch 7: w =1.359, loss = 4.26725292\n",
            "epoch 8: w =1.455, loss = 3.08308983\n",
            "epoch 9: w =1.537, loss = 2.22753215\n",
            "epoch 10: w =1.606, loss = 1.60939169\n",
            "epoch 11: w =1.665, loss = 1.16278565\n",
            "epoch 12: w =1.716, loss = 0.84011245\n",
            "epoch 13: w =1.758, loss = 0.60698116\n",
            "epoch 14: w =1.794, loss = 0.43854395\n",
            "epoch 15: w =1.825, loss = 0.31684780\n",
            "epoch 16: w =1.851, loss = 0.22892261\n",
            "epoch 17: w =1.874, loss = 0.16539653\n",
            "epoch 18: w =1.893, loss = 0.11949898\n",
            "epoch 19: w =1.909, loss = 0.08633806\n",
            "epoch 20: w =1.922, loss = 0.06237914\n",
            "Prediction after traning: f(5) = 9.612\n"
          ]
        }
      ]
    }
  ],
  "metadata": {
    "colab": {
      "collapsed_sections": [],
      "name": "Colaboratory에 오신 것을 환영합니다",
      "provenance": [],
      "include_colab_link": true
    },
    "kernelspec": {
      "display_name": "Python 3",
      "name": "python3"
    },
    "gpuClass": "standard",
    "accelerator": "GPU"
  },
  "nbformat": 4,
  "nbformat_minor": 0
}