{
  "cells": [
    {
      "cell_type": "markdown",
      "metadata": {
        "id": "view-in-github",
        "colab_type": "text"
      },
      "source": [
        "<a href=\"https://colab.research.google.com/github/kiyong21c/pytorch_tutorial/blob/main/20220705_Linear_Regression.ipynb\" target=\"_parent\"><img src=\"https://colab.research.google.com/assets/colab-badge.svg\" alt=\"Open In Colab\"/></a>"
      ]
    },
    {
      "cell_type": "code",
      "source": [
        "# linear regression\n",
        "\n",
        "import torch\n",
        "import torch.nn as nn\n",
        "import numpy as np\n",
        "from sklearn import datasets\n",
        "import matplotlib.pyplot as plt\n",
        "\n",
        "# 0) Prepare data : noise가 들어간 선형 데이터셋 생성\n",
        "X_numpy, y_numpy = datasets.make_regression(n_samples=100, n_features=1, noise=20, random_state=4)\n",
        "print(X_numpy.shape) # (100, 1) : 2차원 배열\n",
        "print(y_numpy.shape) # (100,) : 1차원 배열\n",
        "\n",
        "# Prepare data 시각화\n",
        "plt.figure(figsize=(5, 5))\n",
        "plt.scatter(X_numpy, y_numpy)\n",
        "\n",
        "# cast to float Tensor\n",
        "X = torch.from_numpy(X_numpy.astype(np.float32)) # torch.from_numpy(넘파이배열) : 텐서로 변환\n",
        "y = torch.from_numpy(y_numpy.astype(np.float32)) # torch.Size([100])\n",
        "y = y.view(y.shape[0], 1) # y.view(100, 1) : 1차원의 tensor [100]를 2차원 tensor로 [100, 1]\n",
        "print(y.shape) # torch.Size([100, 1])\n",
        "\n",
        "n_samples, n_features = X.shape # torch.Size([100, 1])\n",
        "\n",
        "# 1) Model\n",
        "# Linear model f = wx + b\n",
        "input_size = n_features\n",
        "output_size = 1\n",
        "model = nn.Linear(input_size, output_size)\n",
        "\n",
        "# 2) Loss and optimizer\n",
        "learning_rate = 0.01\n",
        "\n",
        "criterion = nn.MSELoss()\n",
        "optimizer = torch.optim.SGD(model.parameters(), lr=learning_rate) \n",
        "\n",
        "# 파라미터 확인\n",
        "w, b = model.parameters()\n",
        "print('최초 w =',w[0].item(), '최초 b =',b[0].item())\n",
        "# 최초 파라미터 갱신전 plot\n",
        "plt.plot(X, w[0].item()*X + b[0].item())\n",
        "\n",
        "# 3) Training loop\n",
        "num_epochs = 100\n",
        "for epoch in range(num_epochs):\n",
        "    # Forward pass and loss\n",
        "    y_predicted = model(X)\n",
        "    loss = criterion(y_predicted, y)\n",
        "    \n",
        "    # Backward pass and update\n",
        "    loss.backward()\n",
        "    optimizer.step() # optimizer 내부로직에 의해 w, b가 갱신됨\n",
        "\n",
        "    # zero grad before new step\n",
        "    optimizer.zero_grad()\n",
        "\n",
        "    if (epoch+1) % 10 == 0:\n",
        "        print(f'epoch: {epoch+1}, loss = {loss.item():.4f}')\n",
        "\n",
        "print('최종 w =',w[0].item(), '최종 b =',b[0].item())\n",
        "# 최종 파라미터 갱신후 plot(w, b를 이용해 그리는 방법)\n",
        "plt.plot(X, w[0].item()*X + b[0].item())\n",
        "\n",
        "# Plot\n",
        "predicted = model(X).detach().numpy() # detach() : gradient가 전파되지 않는 텐서를 복사(= with torch.no_grad(): 와 같은 개념)\n",
        "\n",
        "# 최종 파라미터 갱신후 plot(model(X))를 이용해 그리는 방법)\n",
        "plt.plot(X_numpy, predicted, 'b') # numpy아닌 torch로도 그려짐\n",
        "plt.show()"
      ],
      "metadata": {
        "id": "HaG4HOkz7qKZ",
        "outputId": "72924cef-a5b1-4f22-f223-7b08dcadd85a",
        "colab": {
          "base_uri": "https://localhost:8080/",
          "height": 595
        }
      },
      "execution_count": 5,
      "outputs": [
        {
          "output_type": "stream",
          "name": "stdout",
          "text": [
            "(100, 1)\n",
            "(100,)\n",
            "torch.Size([100, 1])\n",
            "최초 w = -0.0009385347366333008 최초 b = 0.1302180290222168\n",
            "epoch: 10, loss = 4058.6868\n",
            "epoch: 20, loss = 2860.1526\n",
            "epoch: 30, loss = 2043.1572\n",
            "epoch: 40, loss = 1486.1228\n",
            "epoch: 50, loss = 1106.2524\n",
            "epoch: 60, loss = 847.1462\n",
            "epoch: 70, loss = 670.3766\n",
            "epoch: 80, loss = 549.7557\n",
            "epoch: 90, loss = 467.4325\n",
            "epoch: 100, loss = 411.2368\n",
            "최종 w = 63.84634017944336 최종 b = 0.3977162539958954\n"
          ]
        },
        {
          "output_type": "display_data",
          "data": {
            "text/plain": [
              "<Figure size 360x360 with 1 Axes>"
            ],
            "image/png": "[encoded data removed]"
          },
          "metadata": {
            "needs_background": "light"
          }
        }
      ]
    },
    {
      "cell_type": "code",
      "source": [
        ""
      ],
      "metadata": {
        "id": "EAUX3DR7PYKJ"
      },
      "execution_count": null,
      "outputs": []
    }
  ],
  "metadata": {
    "colab": {
      "collapsed_sections": [],
      "name": "Colaboratory에 오신 것을 환영합니다",
      "provenance": [],
      "include_colab_link": true
    },
    "kernelspec": {
      "display_name": "Python 3",
      "name": "python3"
    },
    "gpuClass": "standard"
  },
  "nbformat": 4,
  "nbformat_minor": 0
}