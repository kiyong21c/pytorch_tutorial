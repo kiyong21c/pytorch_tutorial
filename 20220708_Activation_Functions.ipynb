{
  "cells": [
    {
      "cell_type": "markdown",
      "metadata": {
        "id": "view-in-github",
        "colab_type": "text"
      },
      "source": [
        "<a href=\"https://colab.research.google.com/github/kiyong21c/pytorch_tutorial/blob/main/20220708_Activation_Functions.ipynb\" target=\"_parent\"><img src=\"https://colab.research.google.com/assets/colab-badge.svg\" alt=\"Open In Colab\"/></a>"
      ]
    },
    {
      "cell_type": "code",
      "source": [
        "# activation functions\n",
        "\n",
        "# output = w*x + b\n",
        "# output = activation_function(output)\n",
        "import torch\n",
        "import torch.nn as nn\n",
        "import torch.nn.functional as F\n",
        "\n",
        "x = torch.tensor([-1.0, 1.0, 2.0, 3.0])\n",
        "\n",
        "# softmax : 합이 1이 되는 비중을 갖도록함\n",
        "# sofmax with torch\n",
        "output = torch.softmax(x, dim=0)\n",
        "print(output)\n",
        "# sofmax with torch.nn\n",
        "sm = nn.Softmax(dim=0)\n",
        "output = sm(x)\n",
        "print(output)\n",
        "\n",
        "# sigmoid : 각각 0~1사이의 비중을 갖도록\n",
        "# sigmoid with torch\n",
        "output = torch.sigmoid(x)\n",
        "print(output)\n",
        "# sigmoid with torch.nn\n",
        "s = nn.Sigmoid()\n",
        "output = s(x)\n",
        "print(output)\n",
        "\n",
        "# #tanh\n",
        "# output = torch.tanh(x)\n",
        "# print(output)\n",
        "# t = nn.Tanh()\n",
        "# output = t(x)\n",
        "# print(output)\n",
        "\n",
        "# # relu\n",
        "# output = torch.relu(x)\n",
        "# print(output)\n",
        "# relu = nn.ReLU()\n",
        "# output = relu(x)\n",
        "# print(output)\n",
        "\n",
        "# # leaky relu\n",
        "# output = F.leaky_relu(x)\n",
        "# print(output)\n",
        "# lrelu = nn.LeakyReLU()\n",
        "# output = lrelu(x)\n",
        "# print(output)\n",
        "\n",
        "#nn.ReLU() creates an nn.Module which you can add e.g. to an nn.Sequential model.\n",
        "#torch.relu on the other side is just the functional API call to the relu function,\n",
        "#so that you can add it e.g. in your forward method yourself.\n",
        "\n",
        "# option 1 (create nn modules)\n",
        "class NeuralNet(nn.Module):\n",
        "    def __init__(self, input_size, hidden_size):\n",
        "        super(NeuralNet, self).__init__()\n",
        "        self.linear1 = nn.Linear(input_size, hidden_size)\n",
        "        self.relu = nn.ReLU()        # nn.ReLU()라는 층을 만들어 사용\n",
        "        self.linear2 = nn.Linear(hidden_size, 1)\n",
        "        self.sigmoid = nn.Sigmoid()  # nn.Sigmoid()라는 층을 만들어 사용\n",
        "    \n",
        "    def forward(self, x):\n",
        "        out = self.linear1(x)\n",
        "        out = self.relu(out)\n",
        "        out = self.linear2(out)\n",
        "        out = self.sigmoid(out)\n",
        "        return out\n",
        "\n",
        "# option 2 (use activation functions directly in forward pass)\n",
        "class NeuralNet(nn.Module):\n",
        "    def __init__(self, input_size, hidden_size):\n",
        "        super(NeuralNet, self).__init__()\n",
        "        self.linear1 = nn.Linear(input_size, hidden_size)\n",
        "        # relu 층을 만들지 않음\n",
        "        self.linear2 = nn.Linear(hidden_size, 1)\n",
        "        # sigmoid 층을 만들지 않음\n",
        "\n",
        "    \n",
        "    def forward(self, x):\n",
        "        out = torch.relu(self.linear1(x)) # torch.relu() 함수형 API 사용하여 relu 기능 수행\n",
        "        out = torch.sigmoid(self.linear2(out))\n",
        "        return out"
      ],
      "metadata": {
        "id": "QFx70SczJAuK",
        "outputId": "e78bd1b8-88d3-4cfb-e734-67948f003035",
        "colab": {
          "base_uri": "https://localhost:8080/"
        }
      },
      "execution_count": null,
      "outputs": [
        {
          "output_type": "stream",
          "name": "stdout",
          "text": [
            "tensor([0.0120, 0.0889, 0.2418, 0.6572])\n",
            "tensor([0.0120, 0.0889, 0.2418, 0.6572])\n",
            "tensor([0.2689, 0.7311, 0.8808, 0.9526])\n",
            "tensor([0.2689, 0.7311, 0.8808, 0.9526])\n"
          ]
        }
      ]
    }
  ],
  "metadata": {
    "colab": {
      "collapsed_sections": [],
      "name": "Colaboratory에 오신 것을 환영합니다",
      "provenance": [],
      "include_colab_link": true
    },
    "kernelspec": {
      "display_name": "Python 3",
      "name": "python3"
    },
    "gpuClass": "standard",
    "accelerator": "GPU"
  },
  "nbformat": 4,
  "nbformat_minor": 0
}