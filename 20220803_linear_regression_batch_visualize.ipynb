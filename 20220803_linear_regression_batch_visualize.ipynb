{
  "cells": [
    {
      "cell_type": "markdown",
      "metadata": {
        "id": "view-in-github",
        "colab_type": "text"
      },
      "source": [
        "<a href=\"https://colab.research.google.com/github/kiyong21c/pytorch_tutorial/blob/main/20220803_linear_regression_batch_visualize.ipynb\" target=\"_parent\"><img src=\"https://colab.research.google.com/assets/colab-badge.svg\" alt=\"Open In Colab\"/></a>"
      ]
    },
    {
      "cell_type": "code",
      "source": [
        "from sklearn.preprocessing import LabelEncoder # 레이블 인코더\n",
        "\n",
        "fruits = ['사과', '블루베리', '바나나','귤','블루베리','바나나','바나나','사과']"
      ],
      "metadata": {
        "id": "-XLdT3BTQhqc"
      },
      "execution_count": 1,
      "outputs": []
    },
    {
      "cell_type": "code",
      "source": [
        "# 레이블 인코더 생성\n",
        "label_encoder = LabelEncoder()"
      ],
      "metadata": {
        "id": "1DIRpkvxQxaa"
      },
      "execution_count": 2,
      "outputs": []
    },
    {
      "cell_type": "code",
      "source": [
        "# 레이블 인코딩 적용\n",
        "label_encoder.fit(fruits)"
      ],
      "metadata": {
        "id": "PKw0_KmjQ_iI",
        "outputId": "e6edc26e-930f-4eb2-ff63-c5d997b6e358",
        "colab": {
          "base_uri": "https://localhost:8080/"
        }
      },
      "execution_count": 3,
      "outputs": [
        {
          "output_type": "execute_result",
          "data": {
            "text/plain": [
              "LabelEncoder()"
            ]
          },
          "metadata": {},
          "execution_count": 3
        }
      ]
    },
    {
      "cell_type": "code",
      "source": [
        "label_encoder.transform(fruits)"
      ],
      "metadata": {
        "id": "ZXxfDXmaRB7_",
        "outputId": "0d228870-1db1-4f22-f5fc-56e131e057c2",
        "colab": {
          "base_uri": "https://localhost:8080/"
        }
      },
      "execution_count": 4,
      "outputs": [
        {
          "output_type": "execute_result",
          "data": {
            "text/plain": [
              "array([3, 2, 1, 0, 2, 1, 1, 3])"
            ]
          },
          "metadata": {},
          "execution_count": 4
        }
      ]
    },
    {
      "cell_type": "code",
      "source": [
        "fruits_n = ['사과', '블루베리', '바나나','귤','블루베리','바나나','바나나']\n",
        "\n",
        "# 레이블 인코딩 적용\n",
        "fruits_label_encoded = label_encoder.transform(fruits_n)\n",
        "fruits_label_encoded"
      ],
      "metadata": {
        "id": "wc78XOxJRFgH",
        "outputId": "8bce531a-6a1f-49be-bb81-5b00bce6fe1c",
        "colab": {
          "base_uri": "https://localhost:8080/"
        }
      },
      "execution_count": 5,
      "outputs": [
        {
          "output_type": "execute_result",
          "data": {
            "text/plain": [
              "array([3, 2, 1, 0, 2, 1, 1])"
            ]
          },
          "metadata": {},
          "execution_count": 5
        }
      ]
    },
    {
      "cell_type": "code",
      "source": [
        "fruits_label_encoded = label_encoder.fit_transform(fruits)\n",
        "fruits_label_encoded"
      ],
      "metadata": {
        "id": "VhPXF5GFSs8f",
        "outputId": "9928f312-32d2-4a97-b6b5-c22c4202888a",
        "colab": {
          "base_uri": "https://localhost:8080/"
        }
      },
      "execution_count": 6,
      "outputs": [
        {
          "output_type": "execute_result",
          "data": {
            "text/plain": [
              "array([3, 2, 1, 0, 2, 1, 1, 3])"
            ]
          },
          "metadata": {},
          "execution_count": 6
        }
      ]
    },
    {
      "cell_type": "code",
      "source": [
        "from sklearn.preprocessing import OneHotEncoder # 원핫 인코더\n",
        "\n",
        "# 레이블 인코더 생성\n",
        "onehot_encoder = OneHotEncoder()"
      ],
      "metadata": {
        "id": "GRoO4T0WRVw4"
      },
      "execution_count": 7,
      "outputs": []
    },
    {
      "cell_type": "code",
      "source": [
        "import numpy as np\n",
        "fruits_onehot_encoded = onehot_encoder.fit_transform(np.array(fruits).reshape(-1, 1)) # 원핫 인코딩 적용시 (n,1) 배열 형태 변환 필요\n",
        "fruits_onehot_encoded # 원-핫 인코딩은 대부분 값이 9인 희소행렬(메모리 낭비 심하다) → 압축된 형태인 CSR 행렬이 반환됨"
      ],
      "metadata": {
        "id": "JWm_vrV4TKIx",
        "outputId": "13c91925-22f1-45e1-a6ef-5dc0e910b5c8",
        "colab": {
          "base_uri": "https://localhost:8080/"
        }
      },
      "execution_count": 8,
      "outputs": [
        {
          "output_type": "execute_result",
          "data": {
            "text/plain": [
              "<8x4 sparse matrix of type '<class 'numpy.float64'>'\n",
              "\twith 8 stored elements in Compressed Sparse Row format>"
            ]
          },
          "metadata": {},
          "execution_count": 8
        }
      ]
    },
    {
      "cell_type": "code",
      "source": [
        "fruits_onehot_encoded.toarray() # CSR 형태의 행렬을 배열로 변환 : toarray()"
      ],
      "metadata": {
        "id": "sMdDsBDyTRsj",
        "outputId": "c7fc4823-c215-4680-ff20-e4fcb9955c0c",
        "colab": {
          "base_uri": "https://localhost:8080/"
        }
      },
      "execution_count": 9,
      "outputs": [
        {
          "output_type": "execute_result",
          "data": {
            "text/plain": [
              "array([[0., 0., 0., 1.],\n",
              "       [0., 0., 1., 0.],\n",
              "       [0., 1., 0., 0.],\n",
              "       [1., 0., 0., 0.],\n",
              "       [0., 0., 1., 0.],\n",
              "       [0., 1., 0., 0.],\n",
              "       [0., 1., 0., 0.],\n",
              "       [0., 0., 0., 1.]])"
            ]
          },
          "metadata": {},
          "execution_count": 9
        }
      ]
    },
    {
      "cell_type": "code",
      "source": [
        "# 판다스 함수 사용하여 원핫 인코딩\n",
        "import pandas as pd\n",
        "\n",
        "pd.get_dummies(fruits)"
      ],
      "metadata": {
        "id": "49nuGGjuUZMi",
        "outputId": "a9975f23-4e0e-4db8-f623-df5d3e50ccfc",
        "colab": {
          "base_uri": "https://localhost:8080/",
          "height": 300
        }
      },
      "execution_count": 10,
      "outputs": [
        {
          "output_type": "execute_result",
          "data": {
            "text/plain": [
              "   귤  바나나  블루베리  사과\n",
              "0  0    0     0   1\n",
              "1  0    0     1   0\n",
              "2  0    1     0   0\n",
              "3  1    0     0   0\n",
              "4  0    0     1   0\n",
              "5  0    1     0   0\n",
              "6  0    1     0   0\n",
              "7  0    0     0   1"
            ],
            "text/html": [
              "\n",
              "  <div id=\"df-65a22ef2-98e2-4d5a-9c8f-0279317e95d2\">\n",
              "    <div class=\"colab-df-container\">\n",
              "      <div>\n",
              "<style scoped>\n",
              "    .dataframe tbody tr th:only-of-type {\n",
              "        vertical-align: middle;\n",
              "    }\n",
              "\n",
              "    .dataframe tbody tr th {\n",
              "        vertical-align: top;\n",
              "    }\n",
              "\n",
              "    .dataframe thead th {\n",
              "        text-align: right;\n",
              "    }\n",
              "</style>\n",
              "<table border=\"1\" class=\"dataframe\">\n",
              "  <thead>\n",
              "    <tr style=\"text-align: right;\">\n",
              "      <th></th>\n",
              "      <th>귤</th>\n",
              "      <th>바나나</th>\n",
              "      <th>블루베리</th>\n",
              "      <th>사과</th>\n",
              "    </tr>\n",
              "  </thead>\n",
              "  <tbody>\n",
              "    <tr>\n",
              "      <th>0</th>\n",
              "      <td>0</td>\n",
              "      <td>0</td>\n",
              "      <td>0</td>\n",
              "      <td>1</td>\n",
              "    </tr>\n",
              "    <tr>\n",
              "      <th>1</th>\n",
              "      <td>0</td>\n",
              "      <td>0</td>\n",
              "      <td>1</td>\n",
              "      <td>0</td>\n",
              "    </tr>\n",
              "    <tr>\n",
              "      <th>2</th>\n",
              "      <td>0</td>\n",
              "      <td>1</td>\n",
              "      <td>0</td>\n",
              "      <td>0</td>\n",
              "    </tr>\n",
              "    <tr>\n",
              "      <th>3</th>\n",
              "      <td>1</td>\n",
              "      <td>0</td>\n",
              "      <td>0</td>\n",
              "      <td>0</td>\n",
              "    </tr>\n",
              "    <tr>\n",
              "      <th>4</th>\n",
              "      <td>0</td>\n",
              "      <td>0</td>\n",
              "      <td>1</td>\n",
              "      <td>0</td>\n",
              "    </tr>\n",
              "    <tr>\n",
              "      <th>5</th>\n",
              "      <td>0</td>\n",
              "      <td>1</td>\n",
              "      <td>0</td>\n",
              "      <td>0</td>\n",
              "    </tr>\n",
              "    <tr>\n",
              "      <th>6</th>\n",
              "      <td>0</td>\n",
              "      <td>1</td>\n",
              "      <td>0</td>\n",
              "      <td>0</td>\n",
              "    </tr>\n",
              "    <tr>\n",
              "      <th>7</th>\n",
              "      <td>0</td>\n",
              "      <td>0</td>\n",
              "      <td>0</td>\n",
              "      <td>1</td>\n",
              "    </tr>\n",
              "  </tbody>\n",
              "</table>\n",
              "</div>\n",
              "      <button class=\"colab-df-convert\" onclick=\"convertToInteractive('df-65a22ef2-98e2-4d5a-9c8f-0279317e95d2')\"\n",
              "              title=\"Convert this dataframe to an interactive table.\"\n",
              "              style=\"display:none;\">\n",
              "        \n",
              "  <svg xmlns=\"http://www.w3.org/2000/svg\" height=\"24px\"viewBox=\"0 0 24 24\"\n",
              "       width=\"24px\">\n",
              "    <path d=\"M0 0h24v24H0V0z\" fill=\"none\"/>\n",
              "    <path d=\"M18.56 5.44l.94 2.06.94-2.06 2.06-.94-2.06-.94-.94-2.06-.94 2.06-2.06.94zm-11 1L8.5 8.5l.94-2.06 2.06-.94-2.06-.94L8.5 2.5l-.94 2.06-2.06.94zm10 10l.94 2.06.94-2.06 2.06-.94-2.06-.94-.94-2.06-.94 2.06-2.06.94z\"/><path d=\"M17.41 7.96l-1.37-1.37c-.4-.4-.92-.59-1.43-.59-.52 0-1.04.2-1.43.59L10.3 9.45l-7.72 7.72c-.78.78-.78 2.05 0 2.83L4 21.41c.39.39.9.59 1.41.59.51 0 1.02-.2 1.41-.59l7.78-7.78 2.81-2.81c.8-.78.8-2.07 0-2.86zM5.41 20L4 18.59l7.72-7.72 1.47 1.35L5.41 20z\"/>\n",
              "  </svg>\n",
              "      </button>\n",
              "      \n",
              "  <style>\n",
              "    .colab-df-container {\n",
              "      display:flex;\n",
              "      flex-wrap:wrap;\n",
              "      gap: 12px;\n",
              "    }\n",
              "\n",
              "    .colab-df-convert {\n",
              "      background-color: #E8F0FE;\n",
              "      border: none;\n",
              "      border-radius: 50%;\n",
              "      cursor: pointer;\n",
              "      display: none;\n",
              "      fill: #1967D2;\n",
              "      height: 32px;\n",
              "      padding: 0 0 0 0;\n",
              "      width: 32px;\n",
              "    }\n",
              "\n",
              "    .colab-df-convert:hover {\n",
              "      background-color: #E2EBFA;\n",
              "      box-shadow: 0px 1px 2px rgba(60, 64, 67, 0.3), 0px 1px 3px 1px rgba(60, 64, 67, 0.15);\n",
              "      fill: #174EA6;\n",
              "    }\n",
              "\n",
              "    [theme=dark] .colab-df-convert {\n",
              "      background-color: #3B4455;\n",
              "      fill: #D2E3FC;\n",
              "    }\n",
              "\n",
              "    [theme=dark] .colab-df-convert:hover {\n",
              "      background-color: #434B5C;\n",
              "      box-shadow: 0px 1px 3px 1px rgba(0, 0, 0, 0.15);\n",
              "      filter: drop-shadow(0px 1px 2px rgba(0, 0, 0, 0.3));\n",
              "      fill: #FFFFFF;\n",
              "    }\n",
              "  </style>\n",
              "\n",
              "      <script>\n",
              "        const buttonEl =\n",
              "          document.querySelector('#df-65a22ef2-98e2-4d5a-9c8f-0279317e95d2 button.colab-df-convert');\n",
              "        buttonEl.style.display =\n",
              "          google.colab.kernel.accessAllowed ? 'block' : 'none';\n",
              "\n",
              "        async function convertToInteractive(key) {\n",
              "          const element = document.querySelector('#df-65a22ef2-98e2-4d5a-9c8f-0279317e95d2');\n",
              "          const dataTable =\n",
              "            await google.colab.kernel.invokeFunction('convertToInteractive',\n",
              "                                                     [key], {});\n",
              "          if (!dataTable) return;\n",
              "\n",
              "          const docLinkHtml = 'Like what you see? Visit the ' +\n",
              "            '<a target=\"_blank\" href=https://colab.research.google.com/notebooks/data_table.ipynb>data table notebook</a>'\n",
              "            + ' to learn more about interactive tables.';\n",
              "          element.innerHTML = '';\n",
              "          dataTable['output_type'] = 'display_data';\n",
              "          await google.colab.output.renderOutput(dataTable, element);\n",
              "          const docLink = document.createElement('div');\n",
              "          docLink.innerHTML = docLinkHtml;\n",
              "          element.appendChild(docLink);\n",
              "        }\n",
              "      </script>\n",
              "    </div>\n",
              "  </div>\n",
              "  "
            ]
          },
          "metadata": {},
          "execution_count": 10
        }
      ]
    },
    {
      "cell_type": "markdown",
      "source": [
        "# min-max 정규화 vs 표준화\n",
        "- min-max 정규화 : 상한1, 하한0\n",
        "- 표준화 : 상한/하한 없음, 평균0 분산1"
      ],
      "metadata": {
        "id": "gGmm4Z7IIg0_"
      }
    },
    {
      "cell_type": "markdown",
      "source": [
        "# K-fold 교차검증"
      ],
      "metadata": {
        "id": "N2gz-pyRLgsJ"
      }
    },
    {
      "cell_type": "code",
      "source": [
        "import numpy as np\n",
        "from sklearn.model_selection import KFold\n",
        "\n",
        "data = np.array([0,1,2,3,4,5,6,7,8,9])\n",
        "\n",
        "folds =KFold(n_splits=5, shuffle=False)\n",
        "\n",
        "for train_idx, valid_idx in folds.split(data):\n",
        "    print(f'훈련데이터 : {data[train_idx]}, 검증데이터 : {data[valid_idx]}')"
      ],
      "metadata": {
        "id": "z47bSg2bWM3u",
        "outputId": "860c19e3-12c6-4a0b-947f-15d7f275d948",
        "colab": {
          "base_uri": "https://localhost:8080/"
        }
      },
      "execution_count": 11,
      "outputs": [
        {
          "output_type": "stream",
          "name": "stdout",
          "text": [
            "훈련데이터 : [2 3 4 5 6 7 8 9], 검증데이터 : [0 1]\n",
            "훈련데이터 : [0 1 4 5 6 7 8 9], 검증데이터 : [2 3]\n",
            "훈련데이터 : [0 1 2 3 6 7 8 9], 검증데이터 : [4 5]\n",
            "훈련데이터 : [0 1 2 3 4 5 8 9], 검증데이터 : [6 7]\n",
            "훈련데이터 : [0 1 2 3 4 5 6 7], 검증데이터 : [8 9]\n"
          ]
        }
      ]
    },
    {
      "cell_type": "markdown",
      "source": [
        "# 층화 K-fold 교차검증\n",
        " - 타깃값이 골고루 분포되게 폴드를 나누는 방법"
      ],
      "metadata": {
        "id": "LByF0jVmORnU"
      }
    },
    {
      "cell_type": "code",
      "source": [
        "y = np.array(['스팸']*5 + ['일반']*45)\n",
        "\n",
        "folds = KFold(n_splits=5, shuffle=True)\n",
        "\n",
        "for idx, (train_idx, valid_idx) in enumerate(folds.split(y)):\n",
        "    print(f'Fold {idx+1} 검증 데이터 타깃값 :')\n",
        "    print(y[valid_idx], '\\n')"
      ],
      "metadata": {
        "id": "_SjLZSrIOmXd",
        "outputId": "908f6f28-8d24-4f41-8a01-ffb05dd42783",
        "colab": {
          "base_uri": "https://localhost:8080/"
        }
      },
      "execution_count": 12,
      "outputs": [
        {
          "output_type": "stream",
          "name": "stdout",
          "text": [
            "Fold 1 검증 데이터 타깃값 :\n",
            "['일반' '일반' '일반' '일반' '일반' '일반' '일반' '일반' '일반' '일반'] \n",
            "\n",
            "Fold 2 검증 데이터 타깃값 :\n",
            "['일반' '일반' '일반' '일반' '일반' '일반' '일반' '일반' '일반' '일반'] \n",
            "\n",
            "Fold 3 검증 데이터 타깃값 :\n",
            "['스팸' '일반' '일반' '일반' '일반' '일반' '일반' '일반' '일반' '일반'] \n",
            "\n",
            "Fold 4 검증 데이터 타깃값 :\n",
            "['일반' '일반' '일반' '일반' '일반' '일반' '일반' '일반' '일반' '일반'] \n",
            "\n",
            "Fold 5 검증 데이터 타깃값 :\n",
            "['스팸' '스팸' '스팸' '스팸' '일반' '일반' '일반' '일반' '일반' '일반'] \n",
            "\n"
          ]
        }
      ]
    },
    {
      "cell_type": "markdown",
      "source": [
        " - 충분하지 않은 데이터의 K-Fold 교차검증 시 스팸이 하나도 없는 폴드가 생기게 됨"
      ],
      "metadata": {
        "id": "838aga2CPUmk"
      }
    },
    {
      "cell_type": "code",
      "source": [
        "from sklearn.model_selection import StratifiedKFold\n",
        "\n",
        "X = np.array(range(50))                # 피처\n",
        "y = np.array(['스팸']*5 + ['일반']*45) # 타깃값\n",
        "\n",
        "folds = StratifiedKFold(n_splits=5)\n",
        "\n",
        "for idx, (train_idx, valid_idx) in enumerate(folds.split(X, y)):\n",
        "    print(f'Fold {idx+1} 검증 데이터 타깃값 :')\n",
        "    print(y[valid_idx], '\\n')"
      ],
      "metadata": {
        "id": "s3TnFuRdNzSJ",
        "outputId": "dd3d9d7c-7462-460a-9057-f260412d5a69",
        "colab": {
          "base_uri": "https://localhost:8080/"
        }
      },
      "execution_count": 13,
      "outputs": [
        {
          "output_type": "stream",
          "name": "stdout",
          "text": [
            "Fold 1 검증 데이터 타깃값 :\n",
            "['스팸' '일반' '일반' '일반' '일반' '일반' '일반' '일반' '일반' '일반'] \n",
            "\n",
            "Fold 2 검증 데이터 타깃값 :\n",
            "['스팸' '일반' '일반' '일반' '일반' '일반' '일반' '일반' '일반' '일반'] \n",
            "\n",
            "Fold 3 검증 데이터 타깃값 :\n",
            "['스팸' '일반' '일반' '일반' '일반' '일반' '일반' '일반' '일반' '일반'] \n",
            "\n",
            "Fold 4 검증 데이터 타깃값 :\n",
            "['스팸' '일반' '일반' '일반' '일반' '일반' '일반' '일반' '일반' '일반'] \n",
            "\n",
            "Fold 5 검증 데이터 타깃값 :\n",
            "['스팸' '일반' '일반' '일반' '일반' '일반' '일반' '일반' '일반' '일반'] \n",
            "\n"
          ]
        }
      ]
    },
    {
      "cell_type": "markdown",
      "source": [
        " - StratifiedKFold의 split()함수에는 피처와 타깃값 모두를 전달해야 함 : 타깃값을 파악해서 동일 한 비율로 나눠야 하기 때문"
      ],
      "metadata": {
        "id": "hLXjk-84QUU2"
      }
    },
    {
      "cell_type": "markdown",
      "source": [
        "# 선형 회귀 모델"
      ],
      "metadata": {
        "id": "iflWcxv5RrOK"
      }
    },
    {
      "cell_type": "code",
      "source": [
        "import numpy as np\n",
        "import matplotlib.pyplot as plt\n",
        "\n",
        "np.random.seed(0) # 시드값 고정\n",
        "\n",
        "# 단순선형 회귀식 : y=2x+5\n",
        "\n",
        "b = 5 # y절편\n",
        "w = 2 # 가중치\n",
        "\n",
        "noise = np.random.randn(100, 1) # 노이즈, 0~1실숫값 100개 생성\n",
        "\n",
        "X = 4*np.random.rand(100, 1) # 0~4실숫값 100개 생성\n",
        "y = w*X + b + noise\n",
        "\n",
        "X = torch.FloatTensor(X)\n",
        "y = torch.FloatTensor(y)\n",
        "\n",
        "plt.scatter(X, y);"
      ],
      "metadata": {
        "id": "Joi7MIVmS2gG",
        "outputId": "37391340-a6df-4287-d6cf-580a5b8472c8",
        "colab": {
          "base_uri": "https://localhost:8080/",
          "height": 265
        }
      },
      "execution_count": 118,
      "outputs": [
        {
          "output_type": "display_data",
          "data": {
            "text/plain": [
              "<Figure size 432x288 with 1 Axes>"
            ],
            "image/png": "[encoded data removed]"
          },
          "metadata": {
            "needs_background": "light"
          }
        }
      ]
    },
    {
      "cell_type": "code",
      "source": [
        "import torch\n",
        "from torch.utils.data import Dataset\n",
        "\n",
        "class NewDataset(Dataset):\n",
        "    # 초기화 메서드(생성자)\n",
        "    def __init__(self, X, y):\n",
        "        super().__init__()  # 상속받은 Dataset의 생성자 호출\n",
        "        # 전달받은 인수들 저장\n",
        "        self.X = X\n",
        "        self.y = y\n",
        "\n",
        "    # 데이터셋 크기 반환 메서드\n",
        "    def __len__(self):\n",
        "        return len(self.X)\n",
        "    \n",
        "    # 인덱스(idx)에 해당하는 데이터 반환 메서드\n",
        "    def __getitem__(self, idx):\n",
        "        return self.X[idx], self.y[idx]"
      ],
      "metadata": {
        "id": "vDHUL4MOT682"
      },
      "execution_count": 119,
      "outputs": []
    },
    {
      "cell_type": "code",
      "source": [
        "X[11]"
      ],
      "metadata": {
        "id": "AY4y96lOnHW1",
        "outputId": "2837a9b8-090c-4e39-afc8-a43fe2a66eb5",
        "colab": {
          "base_uri": "https://localhost:8080/"
        }
      },
      "execution_count": 120,
      "outputs": [
        {
          "output_type": "execute_result",
          "data": {
            "text/plain": [
              "tensor([2.3635])"
            ]
          },
          "metadata": {},
          "execution_count": 120
        }
      ]
    },
    {
      "cell_type": "code",
      "source": [
        "dataset_train = NewDataset(X, y)\n",
        "# dataset_valid = NewDataset(X, y)"
      ],
      "metadata": {
        "id": "_Z1IzdmUWnEK"
      },
      "execution_count": 121,
      "outputs": []
    },
    {
      "cell_type": "code",
      "source": [
        "from torch.utils.data import DataLoader # 데이터 로더 클래스\n",
        "\n",
        "loader_train = DataLoader(dataset=dataset_train, batch_size=10, shuffle=True)\n",
        "# loader_valid = DataLoader(dataset=dataset_valid, batch_size=10, shuffle=False)"
      ],
      "metadata": {
        "id": "EqWOulB1QNfZ"
      },
      "execution_count": 179,
      "outputs": []
    },
    {
      "cell_type": "code",
      "source": [
        "import torch.nn as nn # 신경망 모듈\n",
        "import torch.nn.functional as F # 신경망 모듈에서 자주 사용되는 함수를 모아둔 모듈\n",
        "from sklearn.linear_model import LinearRegression\n",
        "\n",
        "# 모델\n",
        "W = torch.zeros(1, requires_grad = True) # W = 0 초기화\n",
        "B = torch.zeros(1, requires_grad = True) # B = 0 초기화\n",
        "outputs = X * W + B\n",
        "\n",
        "# 손실함수\n",
        "criterion = nn.CrossEntropyLoss()\n",
        "\n",
        "# 옵티마이저\n",
        "optimizer = torch.optim.SGD([W, B], lr = 0.1)"
      ],
      "metadata": {
        "id": "2zR9h1OEdL28"
      },
      "execution_count": 180,
      "outputs": []
    },
    {
      "cell_type": "code",
      "source": [
        "weight = optimizer.param_groups[0]['params'][0].item()\n",
        "bias = optimizer.param_groups[0]['params'][1].item()\n",
        "\n",
        "print( f'weight : {weight}, bias : {bias}')"
      ],
      "metadata": {
        "id": "ccRBYRALqHHk",
        "outputId": "7e69d26c-5532-42fb-ed6e-ec9cbc5e92c9",
        "colab": {
          "base_uri": "https://localhost:8080/"
        }
      },
      "execution_count": 181,
      "outputs": [
        {
          "output_type": "stream",
          "name": "stdout",
          "text": [
            "weight : 0.0, bias : 0.0\n"
          ]
        }
      ]
    },
    {
      "cell_type": "code",
      "source": [
        "epochs = 1 # 총 에폭\n",
        "# 총 에폭만큼 반복\n",
        "for epoch in range(epochs):\n",
        "    epoch_loss = 0  # 에폭별 손실값 초기화\n",
        "\n",
        "    # '반복 횟수(Iterations)'만큼 반복\n",
        "    for i, (X, y) in enumerate(loader_train): # 데이터 로더는 하나의 배치를 한 묶음으로 처리\n",
        "    # 이미지, 레이블 데이터 미니배치를 장비에 할당\n",
        "        # images = images.to(device)\n",
        "        # labels = labels.to(device)\n",
        "\n",
        "\n",
        "        # 옵티마이저 내 기울기 초기화(매 배치 마다)\n",
        "        optimizer.zero_grad()\n",
        "        # 순전파 : 이미지 데이터를 신경망 모델의 입력값으로 사용해 출력값 계산\n",
        "        outputs = X * W + B\n",
        "        # 손실 함수를 활용해 outputs(예측값)와 labels(실제값)의 손실값 계산\n",
        "        loss = F.mse_loss(outputs, y)\n",
        "        # 현재 배치(해당 Iteration)에서 손실 추가\n",
        "        epoch_loss += loss.item()\n",
        "        loss.backward() # 역전파 수행 : 기울기(.grad 속성)을 계산 후 저장\n",
        "        # 가중치 갱신\n",
        "        optimizer.step() # 새로운 가중치 = 기존 가중치 - (학습률 X 기울기)\n",
        "\n",
        "        # 배치마다 사용된 데이터 시각화\n",
        "        plt.scatter(X, y, label=f'no.{i+1} batch');\n",
        "        plt.legend()\n",
        "        # 배치 추가 학습 마다 수정된 가중치(W, B) 시각화\n",
        "        weight = optimizer.param_groups[0]['params'][0].item() # weight는 scalar\n",
        "        bias = optimizer.param_groups[0]['params'][1].item()   # bias는 scalar\n",
        "        plt.plot(X, X*weight+bias)\n",
        "\n",
        "    # 훈련 데이터 손실값 출력() : 하나의 에폭이 끝날때 마다\n",
        "    print(f'에폭[{epoch+1}/{epochs}] - 손실값: {epoch_loss/len(loader_train):.4f}')"
      ],
      "metadata": {
        "id": "Syk3VUgDbKJ8",
        "outputId": "3ddb9e66-15a5-4c12-d3a6-8da021f63cc7",
        "colab": {
          "base_uri": "https://localhost:8080/",
          "height": 283
        }
      },
      "execution_count": 185,
      "outputs": [
        {
          "output_type": "stream",
          "name": "stdout",
          "text": [
            "에폭[1/1] - 손실값: 1.3800\n"
          ]
        },
        {
          "output_type": "display_data",
          "data": {
            "text/plain": [
              "<Figure size 432x288 with 1 Axes>"
            ],
            "image/png": "[encoded data removed]"
          },
          "metadata": {
            "needs_background": "light"
          }
        }
      ]
    }
  ],
  "metadata": {
    "colab": {
      "collapsed_sections": [],
      "name": "Colaboratory에 오신 것을 환영합니다",
      "provenance": [],
      "include_colab_link": true
    },
    "kernelspec": {
      "display_name": "Python 3",
      "name": "python3"
    }
  },
  "nbformat": 4,
  "nbformat_minor": 0
}